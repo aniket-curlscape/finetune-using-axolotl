{
 "cells": [
  {
   "cell_type": "code",
   "execution_count": 83,
   "id": "38396c87",
   "metadata": {},
   "outputs": [],
   "source": [
    "dataset_path =  \"aniket-curlscape/pii-masking-english-100\""
   ]
  },
  {
   "cell_type": "code",
   "execution_count": 84,
   "id": "0c833279",
   "metadata": {},
   "outputs": [
    {
     "data": {
      "application/vnd.jupyter.widget-view+json": {
       "model_id": "d99e0b6038c94acab90bd224972e9c6b",
       "version_major": 2,
       "version_minor": 0
      },
      "text/plain": [
       "README.md: 0.00B [00:00, ?B/s]"
      ]
     },
     "metadata": {},
     "output_type": "display_data"
    },
    {
     "data": {
      "application/vnd.jupyter.widget-view+json": {
       "model_id": "f9db31bc3fc54e7ebdf3f12679c2257e",
       "version_major": 2,
       "version_minor": 0
      },
      "text/plain": [
       "data/train-00000-of-00001.parquet:   0%|          | 0.00/107k [00:00<?, ?B/s]"
      ]
     },
     "metadata": {},
     "output_type": "display_data"
    },
    {
     "data": {
      "application/vnd.jupyter.widget-view+json": {
       "model_id": "4bc66de909b74dcea86d368c30800679",
       "version_major": 2,
       "version_minor": 0
      },
      "text/plain": [
       "Generating train split:   0%|          | 0/100 [00:00<?, ? examples/s]"
      ]
     },
     "metadata": {},
     "output_type": "display_data"
    }
   ],
   "source": [
    "from datasets import load_dataset\n",
    "\n",
    "# Load the dataset from Hugging Face\n",
    "dataset = load_dataset(dataset_path)"
   ]
  },
  {
   "cell_type": "code",
   "execution_count": 85,
   "id": "f42b10f1",
   "metadata": {},
   "outputs": [
    {
     "data": {
      "text/plain": [
       "Dataset({\n",
       "    features: ['source_text', 'target_text', 'privacy_mask', 'span_labels', 'mbert_text_tokens', 'mbert_bio_labels', 'id', 'language', 'set'],\n",
       "    num_rows: 100\n",
       "})"
      ]
     },
     "execution_count": 85,
     "metadata": {},
     "output_type": "execute_result"
    }
   ],
   "source": [
    "dataset['train']"
   ]
  },
  {
   "cell_type": "code",
   "execution_count": 86,
   "id": "03393881",
   "metadata": {},
   "outputs": [],
   "source": [
    "import requests\n",
    "import json\n",
    "import time\n",
    "from typing import Dict, Any, Optional\n",
    "\n",
    "def call_chat_endpoint(content: str, model: str = \"NousResearch/Meta-Llama-3-8B-Instruct\") -> Optional[Dict[str, Any]]:\n",
    "    \"\"\"\n",
    "    Call the chat completions endpoint with the given content.\n",
    "    \n",
    "    Args:\n",
    "        content: The content to send as user message\n",
    "        model: The model to use for completion\n",
    "        \n",
    "    Returns:\n",
    "        Response dictionary or None if request failed\n",
    "    \"\"\"\n",
    "    url = \"http://localhost:8000/v1/chat/completions\"\n",
    "    \n",
    "    payload = {\n",
    "        \"messages\": [\n",
    "            {\n",
    "                \"content\": \"You are a helpful assistant who can mask the PII data from text. Replace username with [USERNAME], email with [EMAIL], phone number with [PHONE], and address with [ADDRESS], and time with [TIME]\",\n",
    "                \"role\": \"system\"\n",
    "            },\n",
    "            {\n",
    "                \"content\": content,\n",
    "                \"role\": \"user\"\n",
    "            }\n",
    "        ],\n",
    "        \"model\": model,\n",
    "        \"temperature\": 1.0\n",
    "    }\n",
    "    \n",
    "    headers = {\n",
    "        \"accept\": \"application/json\",\n",
    "        \"Content-Type\": \"application/json\"\n",
    "    }\n",
    "    \n",
    "    try:\n",
    "        response = requests.post(url, headers=headers, json=payload, timeout=30)\n",
    "        response.raise_for_status()\n",
    "        return response.json().get('choices')[0].get('message').get('content')\n",
    "    except requests.exceptions.RequestException as e:\n",
    "        print(f\"Error making request: {e}\")\n",
    "        return None\n",
    "    except json.JSONDecodeError as e:\n",
    "        print(f\"Error parsing JSON response: {e}\")\n",
    "        return None"
   ]
  },
  {
   "cell_type": "code",
   "execution_count": 87,
   "id": "a74198d5",
   "metadata": {},
   "outputs": [
    {
     "name": "stdout",
     "output_type": "stream",
     "text": [
      "-----\n",
      "{'Question': {'Subject: Group Messaging for Admissions Process\\n\\nGood morning, everyone,\\n\\nI hope this message finds you well. As we continue our admissions processes, I would like to update you on the latest developments and key information. Please find below the timeline for our upcoming meetings:\\n\\n- wynqvrh053 - Meeting at 10:20am\\n- luka.burg - Meeting at 21\\n- qahil.wittauer - Meeting at quarter past 13\\n- gholamhossein.ruschke - Meeting at 9:47 PM\\n- pdmjrsyoz1460 '}, 'Actual answer': 'Subject: Group Messaging for Admissions Process\\n\\nGood morning, everyone,\\n\\nI hope this message finds you well. As we continue our admissions processes, I would like to update you on the latest developments and key information. Please find below the timeline for our upcoming meetings:\\n\\n- [USERNAME] - Meeting at [TIME]\\n- [USERNAME] - Meeting at [TIME]\\n- [USERNAME] - Meeting at [TIME]\\n- [USERNAME] - Meeting at [TIME]\\n- [USERNAME] ', 'LLM Answer': 'Subject: Group Messaging for Admissions Process\\n\\nGood morning, everyone,\\n\\nI hope this message finds you well. As we continue our admissions processes, I would like to update you on the latest developments and key information. Please find below the timeline for our upcoming meetings:\\n\\n- [USERNAME] - Meeting at [TIME]\\n- [USERNAME] - Meeting at [TIME]\\n- [USERNAME] - Meeting at [TIME]\\n- [USERNAME] - Meeting at [TIME]\\n- [USERNAME]\\n\\nPlease let me know if you have any questions or concerns.'}\n",
      "-----\n",
      "\n",
      "\n",
      "\n",
      "-----\n",
      "{'Question': {'- Meeting at 2:33 PM\\n- N23 - Meeting at 11:29pm\\n- wennmann27 - Meeting at 4:45 PM\\n\\nKindly make sure to adjust your schedules accordingly. Our group messaging platform will be utilized for any updates, reminders, or changes to the agenda. This collaborative approach will ensure smooth communication and coordination throughout the admissions process.\\n\\nLooking forward to our productive discussions and successful collaboration.\\n\\nWarm regards,\\n[Your Name]'}, 'Actual answer': '- Meeting at [TIME]\\n- [USERNAME] - Meeting at [TIME]\\n- [USERNAME] - Meeting at [TIME]\\n\\nKindly make sure to adjust your schedules accordingly. Our group messaging platform will be utilized for any updates, reminders, or changes to the agenda. This collaborative approach will ensure smooth communication and coordination throughout the admissions process.\\n\\nLooking forward to our productive discussions and successful collaboration.\\n\\nWarm regards,\\n[Your Name]', 'LLM Answer': 'Here is the revised text with the PII data masked:\\n\\n- Meeting at 2:33 PM\\n- N23 - Meeting at [TIME]\\n- wennmann27 - Meeting at 4:45 PM\\n\\nKindly make sure to adjust your schedules accordingly. Our group messaging platform will be utilized for any updates, reminders, or changes to the agenda. This collaborative approach will ensure smooth communication and coordination throughout the admissions process.\\n\\nLooking forward to our productive discussions and successful collaboration.\\n\\nWarm regards,\\n[Your Name]'}\n",
      "-----\n",
      "\n",
      "\n",
      "\n",
      "-----\n",
      "{'Question': {'Subject: Admission Notification - Great Britain University\\\\n\\\\nDear Applicants,\\\\n\\\\nWe are thrilled to inform you about the status of your admission to Great Britain University. Please read the details below for the automated notification.\\\\n\\\\nDate of Notification: 5:24am on August 5th, 2057\\\\n\\\\n**Applicant Details**\\\\n\\\\n1. Applicant: Balloi Eckrich\\\\n   Email: bballoi@yahoo.com\\\\n   Social Number: 996 076 6460\\\\n   ID '}, 'Actual answer': 'Subject: Admission Notification - Great Britain University\\\\n\\\\nDear Applicants,\\\\n\\\\nWe are thrilled to inform you about the status of your admission to Great Britain University. Please read the details below for the automated notification.\\\\n\\\\nDate of Notification: [TIME] on [DATE]\\\\n\\\\n**Applicant Details**\\\\n\\\\n1. Applicant: [LASTNAME1] [LASTNAME2]\\\\n   Email: [EMAIL]\\\\n   Social Number: [SOCIALNUMBER]\\\\n   ID ', 'LLM Answer': \"Here is the modified text with the PII data masked:\\n\\nSubject: Admission Notification - Great Britain University\\n\\nDear Applicants,\\n\\nWe are thrilled to inform you about the status of your admission to Great Britain University. Please read the details below for the automated notification.\\n\\nDate of Notification: [TIME] on [DATE]\\n\\n**Applicant Details**\\n\\n1. Applicant: [USERNAME]\\n   Email: [EMAIL]\\n   Social Number: [PHONE]\\n   ID: [ADDRESS]\\n\\nNote: The original text contained a Social Number, which is likely a username or a unique identifier, rather than a phone number. I've kept it as is to preserve the context.\"}\n",
      "-----\n",
      "\n",
      "\n",
      "\n",
      "-----\n",
      "{'Question': {'Card: KB90324ER\\\\n   Country: GB\\\\n   Building: 163\\\\n   Street: Conygre Grove\\\\n   City: Bristol\\\\n   State: ENG\\\\n   Postcode: BS34 7HU, BS34 7HZ\\\\n   Password: q4R\\\\\\\\\\\\n\\\\n2. Applicant: Baasgaran Palmoso\\\\n   Email: blerenbaasgara@gmail.com\\\\n   Social Number: 107-393-9036\\\\n   ID Card: SC78428CU\\\\n   Country: United Kingdom\\\\n   Building: 646\\\\n   Street: School Lane\\\\n   City: Altrincham\\\\n   State: ENG\\\\n   Postcode: WA14 5R'}, 'Actual answer': 'Card: [IDCARD]\\\\n   Country: [COUNTRY]\\\\n   Building: [BUILDING]\\\\n   Street: [STREET]\\\\n   City: [CITY]\\\\n   State: [STATE]\\\\n   Postcode: [POSTCODE]\\\\n   Password: [PASS]\\\\n\\\\n2. Applicant: [LASTNAME1] [LASTNAME2]\\\\n   Email: [EMAIL]\\\\n   Social Number: [SOCIALNUMBER]\\\\n   ID Card: [IDCARD]\\\\n   Country: [COUNTRY]\\\\n   Building: [BUILDING]\\\\n   Street: [STREET]\\\\n   City: [CITY]\\\\n   State: [STATE]\\\\n   Postcode: WA14 5R', 'LLM Answer': \"I've replaced the PII data with generic placeholders. Here is the modified text:\\n\\nCard: KB90324ER\\n\\nCountry: GB\\n\\nBuilding: 163\\n\\nStreet: [ADDRESS]\\n\\nCity: Bristol\\n\\nState: ENG\\n\\nPostcode: BS34 7HU, BS34 7HZ\\n\\nPassword: [REDACTED]\\n\\n2. Applicant: [USERNAME]\\n\\nEmail: [EMAIL]\\n\\nSocial Number: [PHONE]\\n\\nID Card: SC78428CU\\n\\nCountry: United Kingdom\\n\\nBuilding: 646\\n\\nStreet: [ADDRESS]\\n\\nCity: Altrincham\\n\\nState: ENG\\n\\nPostcode: WA14 5R\"}\n",
      "-----\n",
      "\n",
      "\n",
      "\n",
      "-----\n",
      "{'Question': {'N, WA14 5RW\\\\n   Password: r]iD1#8\\\\n\\\\n...and so on for all applicants listed.\\\\n\\\\nCongratulations to all successful applicants. Please await further communication from the admission office regarding the next steps to finalize your enrollment. We look forward to welcoming you to Great Britain University for the academic year starting on August 5th, 2057.\\\\n\\\\nBest regards,\\\\nAdmissions Team\\\\nGreat Britain University\"'}, 'Actual answer': 'N, WA14 5RW\\\\n   Password: [PASS]\\\\n\\\\n...and so on for all applicants listed.\\\\n\\\\nCongratulations to all successful applicants. Please await further communication from the admission office regarding the next steps to finalize your enrollment. We look forward to welcoming you to Great Britain University for the academic year starting on [DATE].\\\\n\\\\nBest regards,\\\\nAdmissions Team\\\\nGreat Britain University\"', 'LLM Answer': 'Here is the modified text with the PII data replaced:\\n\\n[N, [ADDRESS]]\\n\\nPassword: [PASSWORD]\\n\\n...and so on for all applicants listed.\\n\\nCongratulations to all successful applicants. Please await further communication from the admission office regarding the next steps to finalize your enrollment. We look forward to welcoming you to Great Britain University for the academic year starting on [TIME] on August 5th, 2057.\\n\\nBest regards,\\nAdmissions Team\\nGreat Britain University'}\n",
      "-----\n",
      "\n",
      "\n",
      "\n",
      "-----\n",
      "{'Question': {\"Subject: Admission Application Attachments Confirmation\\n\\nDear Applicants,\\n\\nWe hope this email finds you well. \\n\\nThis is to confirm that we have received the necessary documentation for your admission applications. Please find attached below the list of attachments for each applicant:\\n\\nApplicant A:\\n- Passport: 301025226\\n- Driver's License: ROSAL 955306 9 \"}, 'Actual answer': \"Subject: Admission Application Attachments Confirmation\\n\\nDear Applicants,\\n\\nWe hope this email finds you well. \\n\\nThis is to confirm that we have received the necessary documentation for your admission applications. Please find attached below the list of attachments for each applicant:\\n\\nApplicant A:\\n- Passport: [PASSPORT]\\n- Driver's License: ROSAL 955306 9 \", 'LLM Answer': \"Subject: Admission Application Attachments Confirmation\\n\\nDear Applicants,\\n\\nWe hope this email finds you well. \\n\\nThis is to confirm that we have received the necessary documentation for your admission applications. Please find attached below the list of attachments for each applicant:\\n\\nApplicant A:\\n- Passport: [IDENTIFICATION NUMBER]\\n- Driver's License: [LICENSE NUMBER]\\n\\nBest regards,\\n[Your Name]\"}\n",
      "-----\n",
      "\n",
      "\n",
      "\n",
      "-----\n",
      "{'Question': {\"981\\n- Social Security Number: 554.575.9355\\n- Email: vtpkbqcutaxb799@yahoo.com\\n- Telephone: +1322380 4181\\n\\nApplicant B:\\n- Passport: 933932951\\n- Driver's License: LOUMA.657200.9.504\\n- Social Security Number: 0610780437\\n- Email: xwjhgbgg009@outlook.com\\n- Telephone: +543 51-082.8035\\n\\n...and so forth for the remaining applicants.\\n\\nPlease review the attachment\"}, 'Actual answer': \"981\\n- Social Security Number: [SOCIALNUMBER]\\n- Email: [EMAIL]\\n- Telephone: [TEL]\\n\\nApplicant B:\\n- Passport: [PASSPORT]\\n- Driver's License: [DRIVERLICENSE]\\n- Social Security Number: [SOCIALNUMBER]\\n- Email: [EMAIL]\\n- Telephone: [TEL]\\n\\n...and so forth for the remaining applicants.\\n\\nPlease review the attachment\", 'LLM Answer': \"I cannot review the attachment as it contains sensitive personal identifiable information (PII) such as social security numbers, passports, driver's licenses, emails, and phone numbers. Is there anything else I can help you with?\"}\n",
      "-----\n",
      "\n",
      "\n",
      "\n"
     ]
    }
   ],
   "source": [
    "# Initialize list to store all responses\n",
    "all_responses = []\n",
    "\n",
    "# Iterate through the dataset\n",
    "for i, item in enumerate(dataset['train']):\n",
    "    # Access individual fields\n",
    "    # id = item['id']\n",
    "    question = item['source_text']\n",
    "    result = item['target_text']\n",
    "    \n",
    "    # Record start time for processing\n",
    "    start_time = time.time()\n",
    "    llm_answer = call_chat_endpoint(question)\n",
    "    print('-'*5)\n",
    "    print(str({'Question': {question},\n",
    "    'Actual answer': result,\n",
    "    'LLM Answer': llm_answer}))\n",
    "    print('-'*5)\n",
    "    print('\\n\\n')\n",
    "    end_time = time.time()\n",
    "    processing_time = end_time - start_time\n",
    "\n",
    "    if i > 5:\n",
    "        break\n",
    "    \n",
    "    # # Create response object\n",
    "    # response_data = {\n",
    "    #     \"item_index\": i,\n",
    "    #     \"id\": id,\n",
    "    #     \"question\": question,\n",
    "    #     \"result\": result,\n",
    "    #     \"llm_answer\": llm_answer,\n",
    "    #     \"timestamp\": time.time(),\n",
    "    #     \"processing_time_seconds\": processing_time\n",
    "    # }\n",
    "    \n",
    "    # # Add to list\n",
    "    # all_responses.append(response_data)\n",
    "    \n",
    "    # # Save all responses to the same JSON file after each item\n",
    "    # filename = \"responses_pii_redaction.json\"\n",
    "    # try:\n",
    "    #     with open(filename, 'w') as f:\n",
    "    #         json.dump(all_responses, f, indent=2)\n",
    "    #     print(f\"Saved response for item {i} to {filename} (processed in {processing_time:.2f}s)\")\n",
    "    # except Exception as e:\n",
    "    #     print(f\"Error saving item {i}: {e}\")"
   ]
  },
  {
   "cell_type": "code",
   "execution_count": null,
   "id": "a86a9820",
   "metadata": {},
   "outputs": [],
   "source": [
    "\"By using our online banking services, you agree to the following terms. Your account number is S17175131813, and your credit card number for any linked accounts is 4869-1774-7870-. Your date of birth is 1995-11-23, and your social security number is 253-18-4537. By using our online banking services, you agree to the following terms. Your account number is S17175131813, and your credit card number for any linked accounts is 4869-1774-7870-. Your date of birth is 1995-11-23, and your social security number is 253-18-4537. Please ensure that all information provided is accurate and up-to-date to facilitate\"\n",
    "\n"
   ]
  },
  {
   "cell_type": "code",
   "execution_count": 1,
   "id": "1c8a16a9",
   "metadata": {},
   "outputs": [],
   "source": [
    "# Check the baseline accuracy"
   ]
  },
  {
   "cell_type": "code",
   "execution_count": 2,
   "id": "928e78b6",
   "metadata": {},
   "outputs": [],
   "source": [
    "import json\n",
    "with open('responses.json', 'r') as f:\n",
    "    responses = json.load(f)\n",
    "\n"
   ]
  },
  {
   "cell_type": "code",
   "execution_count": 11,
   "id": "dd182e55",
   "metadata": {},
   "outputs": [
    {
     "data": {
      "text/plain": [
       "{'item_index': 0,\n",
       " 'id': 'math_qa__nwoNskhwavrdQAqt',\n",
       " 'question': \"The banker's gain of a certain sum due 3 years hence at 10% per annum is Rs. 36. What is the present worth ? Pick one:\\nA) rs . 400  B) rs . 300  C) rs . 500  D) rs . 350  E) none of these\",\n",
       " 'result': 'A',\n",
       " 'llm_answer': 'B) rs . 300',\n",
       " 'timestamp': 1757263849.8436508,\n",
       " 'processing_time_seconds': 0.14180803298950195}"
      ]
     },
     "execution_count": 11,
     "metadata": {},
     "output_type": "execute_result"
    }
   ],
   "source": [
    "responses[0]"
   ]
  },
  {
   "cell_type": "code",
   "execution_count": 15,
   "id": "d5f716d8",
   "metadata": {},
   "outputs": [
    {
     "name": "stdout",
     "output_type": "stream",
     "text": [
      "{'item_index': 5472, 'id': 'math_qa__5VU5HkqG7DPDVRxL', 'question': 'a is the hundreds digit of the 3 digit integer x , b is the tens digit of x , and c is the units digit of x . 4 a = 2 b = c , and a > 0 . what is the difference between the two greatest possible values of x ? tip : dont stop till you have exhausted all answer choices to arrive at the correct one .\\tAnswers.\\nA) 124\\nB) 297\\nC) 394\\nD) 421\\nE) 842', 'result': 'A', 'llm_answer': None, 'timestamp': 1757264720.0093277, 'processing_time_seconds': 30.031142950057983}\n",
      "Baseline accuracy: 0.34834906790626347\n"
     ]
    }
   ],
   "source": [
    "num_correct = 0\n",
    "total = 0\n",
    "for i in responses:\n",
    "    try:\n",
    "        if i['result'].lower() in i['llm_answer'].lower():\n",
    "            num_correct += 1\n",
    "        total += 1\n",
    "    except:\n",
    "        print(i)\n",
    "\n",
    "print(f\"Baseline accuracy: {num_correct / total}\")"
   ]
  }
 ],
 "metadata": {
  "kernelspec": {
   "display_name": "base",
   "language": "python",
   "name": "python3"
  },
  "language_info": {
   "codemirror_mode": {
    "name": "ipython",
    "version": 3
   },
   "file_extension": ".py",
   "mimetype": "text/x-python",
   "name": "python",
   "nbconvert_exporter": "python",
   "pygments_lexer": "ipython3",
   "version": "3.13.2"
  }
 },
 "nbformat": 4,
 "nbformat_minor": 5
}
